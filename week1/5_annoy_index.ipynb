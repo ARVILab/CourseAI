{
 "cells": [
  {
   "cell_type": "code",
   "execution_count": null,
   "metadata": {
    "collapsed": true
   },
   "outputs": [],
   "source": [
    "from annoy import AnnoyIndex\n",
    "import numpy as np"
   ]
  },
  {
   "cell_type": "code",
   "execution_count": null,
   "metadata": {},
   "outputs": [],
   "source": [
    "imgPaths = []\n",
    "with open('data/imgpaths.txt') as f:\n",
    "    for l in f:\n",
    "        imgPaths.append(l.strip())\n",
    "\n",
    "print(len(imgPaths))\n",
    "\n",
    "datasetPath = '../datasets/coco/train2017/'        \n",
    "vectorsPath = 'data/vectors_resnet/'"
   ]
  },
  {
   "cell_type": "code",
   "execution_count": null,
   "metadata": {},
   "outputs": [],
   "source": [
    "n_trees = 256\n",
    "vector_size = 2048\n",
    "index = AnnoyIndex(vector_size, metric='angular')"
   ]
  },
  {
   "cell_type": "code",
   "execution_count": null,
   "metadata": {},
   "outputs": [],
   "source": [
    "for i, img in enumerate(imgPaths):\n",
    "    fn = img.replace(datasetPath, vectorsPath) + '.npy'\n",
    "    vector = np.load(fn)\n",
    "    index.add_item(i, vector)"
   ]
  },
  {
   "cell_type": "code",
   "execution_count": null,
   "metadata": {},
   "outputs": [],
   "source": [
    "index.build(n_trees)\n",
    "index.save('data/resnet_%d.idx' % n_trees)"
   ]
  }
 ],
 "metadata": {
  "kernelspec": {
   "display_name": "Python 2",
   "language": "python",
   "name": "python2"
  },
  "language_info": {
   "codemirror_mode": {
    "name": "ipython",
    "version": 2
   },
   "file_extension": ".py",
   "mimetype": "text/x-python",
   "name": "python",
   "nbconvert_exporter": "python",
   "pygments_lexer": "ipython2",
   "version": "2.7.6"
  }
 },
 "nbformat": 4,
 "nbformat_minor": 0
}
