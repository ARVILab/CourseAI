{
 "cells": [
  {
   "cell_type": "code",
   "execution_count": 1,
   "metadata": {
    "collapsed": false
   },
   "outputs": [
    {
     "name": "stderr",
     "output_type": "stream",
     "text": [
      "Using TensorFlow backend.\n"
     ]
    }
   ],
   "source": [
    "import numpy as np\n",
    "from keras.applications.resnet50 import ResNet50\n",
    "from keras.preprocessing import image\n",
    "from keras.applications.vgg19 import preprocess_input\n",
    "from keras.models import Model\n",
    "from keras.layers import Flatten\n",
    "import os"
   ]
  },
  {
   "cell_type": "code",
   "execution_count": 2,
   "metadata": {},
   "outputs": [],
   "source": [
    "base_resnet = ResNet50(include_top=False, weights='imagenet', input_shape=(224, 224, 3), classes=1000)\n",
    "flatFeaturesLayer = Flatten()(base_resnet.output)\n",
    "featureExtractor = Model(inputs=base_resnet.input, outputs=flatFeaturesLayer)\n",
    "featureExtractor.compile('sgd', 'mse')"
   ]
  },
  {
   "cell_type": "markdown",
   "metadata": {},
   "source": [
    "define dataset path"
   ]
  },
  {
   "cell_type": "code",
   "execution_count": 3,
   "metadata": {},
   "outputs": [],
   "source": [
    "datasetPath = '../datasets/coco/train2017/'"
   ]
  },
  {
   "cell_type": "markdown",
   "metadata": {},
   "source": [
    "create list of paths for every image in dataset"
   ]
  },
  {
   "cell_type": "code",
   "execution_count": 4,
   "metadata": {},
   "outputs": [],
   "source": [
    "imgpaths = [os.path.join(root, f) \n",
    "            for root, _, files in os.walk(datasetPath) \n",
    "            for f in files if f.endswith('.jpg')]\n",
    "print(len(imgpaths))\n",
    "imgpaths = imgpaths[0: 1000]"
   ]
  },
  {
   "cell_type": "code",
   "execution_count": 5,
   "metadata": {},
   "outputs": [],
   "source": [
    "with open('imgpaths.txt', 'w') as f:\n",
    "    for b in imgpaths:\n",
    "        f.write(b + '\\n')\n",
    "vectorsPath = 'data/vectors_resnet/'        "
   ]
  },
  {
   "cell_type": "markdown",
   "metadata": {},
   "source": [
    "define function to extract vectors for every image in dataset in batches of 64 images"
   ]
  },
  {
   "cell_type": "code",
   "execution_count": 6,
   "metadata": {},
   "outputs": [],
   "source": [
    "def extractAndSaveVectorsForBatch(batchImgPaths):\n",
    "    batchSize = len(batchImgPaths)\n",
    "    batch = np.zeros((batchSize, 224, 224, 3), dtype=np.float)\n",
    "    \n",
    "    for i in range(0, batchSize):\n",
    "        img = image.img_to_array(image.load_img(batchImgPaths[i], target_size=(224, 224)))\n",
    "        batch[i] = preprocess_input(img)\n",
    "        \n",
    "    batchVectors = featureExtractor.predict_on_batch(batch).astype(np.float16)\n",
    "    for i in range(0, batchSize):\n",
    "        np.save(batchImgPaths[i].replace(datasetPath, vectorsPath) + '.npy', batchVectors[i])"
   ]
  },
  {
   "cell_type": "markdown",
   "metadata": {},
   "source": [
    "extract and save in .npy format vector for every emage in dataset"
   ]
  },
  {
   "cell_type": "code",
   "execution_count": 8,
   "metadata": {},
   "outputs": [
    {
     "name": "stdout",
     "output_type": "stream",
     "text": [
      "extracted vectors for every image\n"
     ]
    }
   ],
   "source": [
    "batchSize = 64\n",
    "printEvery = 8\n",
    "imgCount = len(imgpaths)\n",
    "for i in range(0, imgCount, batchSize):\n",
    "    extractAndSaveVectorsForBatch(imgpaths[i: i+batchSize])\n",
    "    if not i % printEvery*batchSize:\n",
    "        print('extracted vectors for %s images of %s' % (min(i+batchSize, imgCount), imgCount))\n",
    "print('extracted vectors for every image')"
   ]
  },
  {
   "cell_type": "markdown",
   "metadata": {},
   "source": [
    "load every vector in one matrix "
   ]
  },
  {
   "cell_type": "code",
   "execution_count": 10,
   "metadata": {},
   "outputs": [
    {
     "name": "stdout",
     "output_type": "stream",
     "text": [
      "loaded all image vectors\n"
     ]
    }
   ],
   "source": [
    "imgVectors = []\n",
    "for imgpath in imgpaths:\n",
    "    vectorpath = imgpath.replace(datasetPath, vectorsPath) + '.npy'\n",
    "    imgVectors.append(np.load(vectorpath))\n",
    "imgVectors = np.array(imgVectors)\n",
    "print('loaded all image vectors')"
   ]
  },
  {
   "cell_type": "markdown",
   "metadata": {},
   "source": [
    "define function that returns cosine distance for every vector in dataset"
   ]
  },
  {
   "cell_type": "code",
   "execution_count": 11,
   "metadata": {},
   "outputs": [],
   "source": [
    "import scipy\n",
    "\n",
    "\n",
    "def cos_cdist(matrix, vector):\n",
    "    v = vector.reshape(1, -1)\n",
    "    return scipy.spatial.distance.cdist(matrix, v, 'cosine').reshape(-1)"
   ]
  },
  {
   "cell_type": "markdown",
   "metadata": {},
   "source": [
    "define function that loads image using given imgpath, extract feature vector for it and find paths of images that have nearest features vectors using cosine distabce metric"
   ]
  },
  {
   "cell_type": "code",
   "execution_count": 12,
   "metadata": {},
   "outputs": [],
   "source": [
    "imgpaths = np.array(imgpaths)\n",
    "\n",
    "\n",
    "def findNearestImages(imgPath, topn=4):\n",
    "    img = preprocess_input(image.img_to_array(image.load_img(imgPath, target_size=(224, 224))))\n",
    "    img = np.expand_dims(img, axis=0)\n",
    "    searchImgVector = featureExtractor.predict(img)[0]\n",
    "    imgDistances = cos_cdist(imgVectors, searchImgVector)\n",
    "    nearestIds = np.argsort(imgDistances)[:topn].tolist()\n",
    "    print(nearestIds)\n",
    "    nearestImgPaths = imgpaths[nearestIds]\n",
    "    print(nearestImgPaths)\n",
    "    return nearestImgPaths"
   ]
  },
  {
   "cell_type": "code",
   "execution_count": 15,
   "metadata": {
    "collapsed": true
   },
   "outputs": [
    {
     "ename": "IndexError",
     "evalue": "too many indices for array",
     "traceback": [
      "\u001b[0;31m\u001b[0m",
      "\u001b[0;31mIndexError\u001b[0mTraceback (most recent call last)",
      "\u001b[0;32m<ipython-input-15-e21dc642bde4>\u001b[0m in \u001b[0;36m<module>\u001b[0;34m()\u001b[0m\n\u001b[1;32m      1\u001b[0m \u001b[0msearchImgPath\u001b[0m \u001b[0;34m=\u001b[0m \u001b[0;34m'week1/imgs/sport1.jpg'\u001b[0m\u001b[0;34m\u001b[0m\u001b[0m\n\u001b[0;32m----> 2\u001b[0;31m \u001b[0msimilarImagesPaths\u001b[0m \u001b[0;34m=\u001b[0m \u001b[0mfindNearestImages\u001b[0m\u001b[0;34m(\u001b[0m\u001b[0msearchImgPath\u001b[0m\u001b[0;34m,\u001b[0m \u001b[0mtopn\u001b[0m\u001b[0;34m=\u001b[0m\u001b[0;36m4\u001b[0m\u001b[0;34m)\u001b[0m\u001b[0;34m\u001b[0m\u001b[0m\n\u001b[0m\u001b[1;32m      3\u001b[0m \u001b[0msimilarimages\u001b[0m \u001b[0;34m=\u001b[0m \u001b[0;34m[\u001b[0m\u001b[0;34m]\u001b[0m\u001b[0;34m\u001b[0m\u001b[0m\n\u001b[1;32m      4\u001b[0m \u001b[0;31m# print(similarImagesPaths)\u001b[0m\u001b[0;34m\u001b[0m\u001b[0;34m\u001b[0m\u001b[0m\n\u001b[1;32m      5\u001b[0m \u001b[0;32mfor\u001b[0m \u001b[0mimgPath\u001b[0m \u001b[0;32min\u001b[0m \u001b[0msimilarImagesPaths\u001b[0m\u001b[0;34m:\u001b[0m\u001b[0;34m\u001b[0m\u001b[0m\n",
      "\u001b[0;32m<ipython-input-12-a0856e1cec01>\u001b[0m in \u001b[0;36mfindNearestImages\u001b[0;34m(imgPath, topn)\u001b[0m\n\u001b[1;32m      3\u001b[0m \u001b[0;34m\u001b[0m\u001b[0m\n\u001b[1;32m      4\u001b[0m \u001b[0;32mdef\u001b[0m \u001b[0mfindNearestImages\u001b[0m\u001b[0;34m(\u001b[0m\u001b[0mimgPath\u001b[0m\u001b[0;34m,\u001b[0m \u001b[0mtopn\u001b[0m\u001b[0;34m=\u001b[0m\u001b[0;36m4\u001b[0m\u001b[0;34m)\u001b[0m\u001b[0;34m:\u001b[0m\u001b[0;34m\u001b[0m\u001b[0m\n\u001b[0;32m----> 5\u001b[0;31m     \u001b[0mimg\u001b[0m \u001b[0;34m=\u001b[0m \u001b[0mpreprocess_input\u001b[0m\u001b[0;34m(\u001b[0m\u001b[0mimage\u001b[0m\u001b[0;34m.\u001b[0m\u001b[0mimg_to_array\u001b[0m\u001b[0;34m(\u001b[0m\u001b[0mimage\u001b[0m\u001b[0;34m.\u001b[0m\u001b[0mload_img\u001b[0m\u001b[0;34m(\u001b[0m\u001b[0mimgPath\u001b[0m\u001b[0;34m,\u001b[0m \u001b[0mtarget_size\u001b[0m\u001b[0;34m=\u001b[0m\u001b[0;34m(\u001b[0m\u001b[0;36m224\u001b[0m\u001b[0;34m,\u001b[0m \u001b[0;36m224\u001b[0m\u001b[0;34m)\u001b[0m\u001b[0;34m)\u001b[0m\u001b[0;34m)\u001b[0m\u001b[0;34m)\u001b[0m\u001b[0;34m\u001b[0m\u001b[0m\n\u001b[0m\u001b[1;32m      6\u001b[0m     \u001b[0mimg\u001b[0m \u001b[0;34m=\u001b[0m \u001b[0mnp\u001b[0m\u001b[0;34m.\u001b[0m\u001b[0mexpand_dims\u001b[0m\u001b[0;34m(\u001b[0m\u001b[0mimg\u001b[0m\u001b[0;34m,\u001b[0m \u001b[0maxis\u001b[0m\u001b[0;34m=\u001b[0m\u001b[0;36m0\u001b[0m\u001b[0;34m)\u001b[0m\u001b[0;34m\u001b[0m\u001b[0m\n\u001b[1;32m      7\u001b[0m     \u001b[0msearchImgVector\u001b[0m \u001b[0;34m=\u001b[0m \u001b[0mfeatureExtractor\u001b[0m\u001b[0;34m.\u001b[0m\u001b[0mpredict\u001b[0m\u001b[0;34m(\u001b[0m\u001b[0mimg\u001b[0m\u001b[0;34m)\u001b[0m\u001b[0;34m[\u001b[0m\u001b[0;36m0\u001b[0m\u001b[0;34m]\u001b[0m\u001b[0;34m\u001b[0m\u001b[0m\n",
      "\u001b[0;32m/usr/local/lib/python2.7/dist-packages/keras/applications/imagenet_utils.pyc\u001b[0m in \u001b[0;36mpreprocess_input\u001b[0;34m(x, data_format)\u001b[0m\n\u001b[1;32m     31\u001b[0m     \u001b[0;32melse\u001b[0m\u001b[0;34m:\u001b[0m\u001b[0;34m\u001b[0m\u001b[0m\n\u001b[1;32m     32\u001b[0m         \u001b[0;31m# 'RGB'->'BGR'\u001b[0m\u001b[0;34m\u001b[0m\u001b[0;34m\u001b[0m\u001b[0m\n\u001b[0;32m---> 33\u001b[0;31m         \u001b[0mx\u001b[0m \u001b[0;34m=\u001b[0m \u001b[0mx\u001b[0m\u001b[0;34m[\u001b[0m\u001b[0;34m:\u001b[0m\u001b[0;34m,\u001b[0m \u001b[0;34m:\u001b[0m\u001b[0;34m,\u001b[0m \u001b[0;34m:\u001b[0m\u001b[0;34m,\u001b[0m \u001b[0;34m:\u001b[0m\u001b[0;34m:\u001b[0m\u001b[0;34m-\u001b[0m\u001b[0;36m1\u001b[0m\u001b[0;34m]\u001b[0m\u001b[0;34m\u001b[0m\u001b[0m\n\u001b[0m\u001b[1;32m     34\u001b[0m         \u001b[0;31m# Zero-center by mean pixel\u001b[0m\u001b[0;34m\u001b[0m\u001b[0;34m\u001b[0m\u001b[0m\n\u001b[1;32m     35\u001b[0m         \u001b[0mx\u001b[0m\u001b[0;34m[\u001b[0m\u001b[0;34m:\u001b[0m\u001b[0;34m,\u001b[0m \u001b[0;34m:\u001b[0m\u001b[0;34m,\u001b[0m \u001b[0;34m:\u001b[0m\u001b[0;34m,\u001b[0m \u001b[0;36m0\u001b[0m\u001b[0;34m]\u001b[0m \u001b[0;34m-=\u001b[0m \u001b[0;36m103.939\u001b[0m\u001b[0;34m\u001b[0m\u001b[0m\n",
      "\u001b[0;31mIndexError\u001b[0m: too many indices for array"
     ],
     "output_type": "error"
    }
   ],
   "source": [
    "searchImgPath = 'imgs/sport1.jpg'\n",
    "similarImagesPaths = findNearestImages(searchImgPath, topn=4)\n",
    "similarimages = []\n",
    "# print(similarImagesPaths)\n",
    "for imgPath in similarImagesPaths:\n",
    "    similarimages.append(image.load_img(imgPath, target_size=(224, 224)))"
   ]
  },
  {
   "cell_type": "code",
   "execution_count": 14,
   "metadata": {
    "collapsed": true
   },
   "outputs": [
    {
     "ename": "NameError",
     "evalue": "name 'similarimages' is not defined",
     "traceback": [
      "\u001b[0;31m\u001b[0m",
      "\u001b[0;31mNameError\u001b[0mTraceback (most recent call last)",
      "\u001b[0;32m<ipython-input-14-fa0bd844f19f>\u001b[0m in \u001b[0;36m<module>\u001b[0;34m()\u001b[0m\n\u001b[0;32m----> 1\u001b[0;31m \u001b[0msimilarimages\u001b[0m\u001b[0;34m[\u001b[0m\u001b[0;36m1\u001b[0m\u001b[0;34m]\u001b[0m\u001b[0;34m\u001b[0m\u001b[0m\n\u001b[0m",
      "\u001b[0;31mNameError\u001b[0m: name 'similarimages' is not defined"
     ],
     "output_type": "error"
    }
   ],
   "source": [
    "similarimages[1]"
   ]
  },
  {
   "cell_type": "code",
   "execution_count": null,
   "metadata": {},
   "outputs": [],
   "source": []
  }
 ],
 "metadata": {
  "kernelspec": {
   "display_name": "Python 2",
   "language": "python",
   "name": "python2"
  },
  "language_info": {
   "codemirror_mode": {
    "name": "ipython",
    "version": 2
   },
   "file_extension": ".py",
   "mimetype": "text/x-python",
   "name": "python",
   "nbconvert_exporter": "python",
   "pygments_lexer": "ipython2",
   "version": "2.7.6"
  }
 },
 "nbformat": 4,
 "nbformat_minor": 0
}
