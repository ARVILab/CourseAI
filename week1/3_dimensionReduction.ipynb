{
 "cells": [
  {
   "cell_type": "code",
   "execution_count": 1,
   "metadata": {
    "collapsed": true
   },
   "outputs": [],
   "source": [
    "import numpy as np\n",
    "import cv2\n",
    "from tsne import bh_sne"
   ]
  },
  {
   "cell_type": "code",
   "execution_count": 2,
   "metadata": {
    "collapsed": true
   },
   "outputs": [],
   "source": [
    "imgPaths = []\n",
    "with open('data/imgpaths.txt', 'r') as f:\n",
    "    for l in f:\n",
    "        imgPaths.append(l.replace('\\n', ''))\n",
    "datasetPath = '../datasets/coco/train2017/'        \n",
    "vectorsPath = 'data/vectors_resnet/'   "
   ]
  },
  {
   "cell_type": "code",
   "execution_count": 3,
   "metadata": {},
   "outputs": [
    {
     "name": "stdout",
     "output_type": "stream",
     "text": [
      "loaded every image vector\n"
     ]
    }
   ],
   "source": [
    "imgVectors = []\n",
    "for imgpath in imgPaths:\n",
    "    vectorpath = imgpath.replace(datasetPath, vectorsPath) + '.npy'\n",
    "    imgVectors.append(np.load(vectorpath))\n",
    "imgVectors = np.array(imgVectors)\n",
    "print('loaded every image vector')"
   ]
  },
  {
   "cell_type": "code",
   "execution_count": 4,
   "metadata": {
    "collapsed": true
   },
   "outputs": [],
   "source": [
    "imgVectors = imgVectors.astype(np.float)"
   ]
  },
  {
   "cell_type": "code",
   "execution_count": 5,
   "metadata": {
    "collapsed": true
   },
   "outputs": [],
   "source": [
    "vectors2d = bh_sne(imgVectors)"
   ]
  },
  {
   "cell_type": "code",
   "execution_count": 7,
   "metadata": {},
   "outputs": [
    {
     "data": {
      "text/plain": [
       "(5000, 2)"
      ]
     },
     "execution_count": 7,
     "metadata": {},
     "output_type": "execute_result"
    }
   ],
   "source": [
    "vectors2d.shape"
   ]
  },
  {
   "cell_type": "code",
   "execution_count": 8,
   "metadata": {
    "collapsed": true
   },
   "outputs": [],
   "source": [
    "canvasWidth = 6000"
   ]
  },
  {
   "cell_type": "code",
   "execution_count": 9,
   "metadata": {
    "collapsed": true
   },
   "outputs": [],
   "source": [
    "canvas = np.zeros((canvasWidth, canvasWidth, 3), dtype=np.uint8)"
   ]
  },
  {
   "cell_type": "code",
   "execution_count": 10,
   "metadata": {
    "collapsed": true
   },
   "outputs": [],
   "source": [
    "imgWidth = round((vectors2d.max() - vectors2d.min())*canvasWidth/10000)\n",
    "imgWidth -= imgWidth % 2"
   ]
  },
  {
   "cell_type": "code",
   "execution_count": 11,
   "metadata": {
    "collapsed": true
   },
   "outputs": [],
   "source": [
    "imgWidth = int(imgWidth)"
   ]
  },
  {
   "cell_type": "code",
   "execution_count": 12,
   "metadata": {},
   "outputs": [
    {
     "name": "stdout",
     "output_type": "stream",
     "text": [
      "added 0 images on canvas \n",
      "added 100 images on canvas \n",
      "added 200 images on canvas \n",
      "added 300 images on canvas \n",
      "added 400 images on canvas \n",
      "added 500 images on canvas \n",
      "added 600 images on canvas \n",
      "added 700 images on canvas \n",
      "added 800 images on canvas \n",
      "added 900 images on canvas \n",
      "added 1000 images on canvas \n",
      "added 1100 images on canvas \n",
      "added 1200 images on canvas \n",
      "added 1300 images on canvas \n",
      "added 1400 images on canvas \n",
      "added 1500 images on canvas \n",
      "added 1600 images on canvas \n",
      "added 1700 images on canvas \n",
      "added 1800 images on canvas \n",
      "added 1900 images on canvas \n",
      "added 2000 images on canvas \n",
      "added 2100 images on canvas \n",
      "added 2200 images on canvas \n",
      "added 2300 images on canvas \n",
      "added 2400 images on canvas \n",
      "added 2500 images on canvas \n",
      "added 2600 images on canvas \n",
      "added 2700 images on canvas \n",
      "added 2800 images on canvas \n",
      "added 2900 images on canvas \n",
      "added 3000 images on canvas \n",
      "added 3100 images on canvas \n",
      "added 3200 images on canvas \n",
      "added 3300 images on canvas \n",
      "added 3400 images on canvas \n",
      "added 3500 images on canvas \n",
      "added 3600 images on canvas \n",
      "added 3700 images on canvas \n",
      "added 3800 images on canvas \n",
      "added 3900 images on canvas \n",
      "added 4000 images on canvas \n",
      "added 4100 images on canvas \n",
      "added 4200 images on canvas \n",
      "added 4300 images on canvas \n",
      "added 4400 images on canvas \n",
      "added 4500 images on canvas \n",
      "added 4600 images on canvas \n",
      "added 4700 images on canvas \n",
      "added 4800 images on canvas \n",
      "added 4900 images on canvas \n"
     ]
    }
   ],
   "source": [
    "minx = vectors2d[:, 0].min()\n",
    "miny = vectors2d[:, 1].min()\n",
    "\n",
    "vectors2d[:, 0] -= minx\n",
    "vectors2d[:, 1] -= miny\n",
    "\n",
    "maxx = vectors2d[:, 0].max()\n",
    "maxy = vectors2d[:, 1].max()\n",
    "\n",
    "canvasWidth = canvas.shape[1]\n",
    "for i, imgpath in enumerate(imgPaths):\n",
    "    imx = int((vectors2d[i, 0]/maxx * (canvasWidth-imgWidth)) + imgWidth/2)\n",
    "    imy = int((vectors2d[i, 1]/maxy * (canvasWidth-imgWidth)) + imgWidth/2)\n",
    "    scaledimage = cv2.resize(cv2.imread(imgpath), (imgWidth, imgWidth))\n",
    "    canvas[imx - imgWidth/2:imx+imgWidth/2, imy-imgWidth/2:imy+imgWidth/2] = scaledimage\n",
    "    if not i % 100:\n",
    "        print('added %s images on canvas ' % i)"
   ]
  },
  {
   "cell_type": "code",
   "execution_count": 13,
   "metadata": {},
   "outputs": [
    {
     "data": {
      "text/plain": [
       "True"
      ]
     },
     "execution_count": 13,
     "metadata": {},
     "output_type": "execute_result"
    }
   ],
   "source": [
    "cv2.imwrite('tsneCanvas.png', canvas)"
   ]
  },
  {
   "cell_type": "code",
   "execution_count": null,
   "metadata": {
    "collapsed": true
   },
   "outputs": [],
   "source": []
  }
 ],
 "metadata": {
  "kernelspec": {
   "display_name": "Python 2",
   "language": "python",
   "name": "python2"
  },
  "language_info": {
   "codemirror_mode": {
    "name": "ipython",
    "version": 2
   },
   "file_extension": ".py",
   "mimetype": "text/x-python",
   "name": "python",
   "nbconvert_exporter": "python",
   "pygments_lexer": "ipython2",
   "version": "2.7.12"
  }
 },
 "nbformat": 4,
 "nbformat_minor": 1
}
