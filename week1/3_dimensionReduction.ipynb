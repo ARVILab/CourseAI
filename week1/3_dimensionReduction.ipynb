{
 "cells": [
  {
   "cell_type": "code",
   "execution_count": 56,
   "metadata": {
    "collapsed": true
   },
   "outputs": [],
   "source": [
    "import numpy as np\n",
    "import cv2\n",
    "from tsne import bh_sne"
   ]
  },
  {
   "cell_type": "code",
   "execution_count": 7,
   "metadata": {},
   "outputs": [],
   "source": [
    "imgPaths = []\n",
    "with open('data/imgpaths.txt', 'r') as f:\n",
    "    for l in f:\n",
    "        imgPaths.append(l.replace('\\n', ''))\n",
    "datasetPath = '../datasets/coco/train2017/'        \n",
    "vectorsPath = 'data/vectors_resnet/'   "
   ]
  },
  {
   "cell_type": "code",
   "execution_count": 8,
   "metadata": {
    "collapsed": true
   },
   "outputs": [
    {
     "name": "stdout",
     "output_type": "stream",
     "text": [
      "loaded every image vector\n"
     ]
    }
   ],
   "source": [
    "imgVectors = []\n",
    "for imgpath in imgPaths:\n",
    "    vectorpath = imgpath.replace(datasetPath, vectorsPath) + '.npy'\n",
    "    imgVectors.append(np.load(vectorpath))\n",
    "imgVectors = np.array(imgVectors)\n",
    "print('loaded every image vector')"
   ]
  },
  {
   "cell_type": "code",
   "execution_count": 17,
   "metadata": {},
   "outputs": [],
   "source": [
    "imgVectors = imgVectors.astype(np.float)"
   ]
  },
  {
   "cell_type": "code",
   "execution_count": 18,
   "metadata": {},
   "outputs": [],
   "source": [
    "vectors2d = bh_sne(imgVectors)"
   ]
  },
  {
   "cell_type": "code",
   "execution_count": null,
   "metadata": {},
   "outputs": [],
   "source": [
    "canvasWidth = 6000"
   ]
  },
  {
   "cell_type": "code",
   "execution_count": 37,
   "metadata": {},
   "outputs": [],
   "source": [
    "canvas = np.zeros((canvasWidth, canvasWidth, 3), dtype=np.uint8)"
   ]
  },
  {
   "cell_type": "code",
   "execution_count": 54,
   "metadata": {},
   "outputs": [],
   "source": [
    "imgWidth = round((vectors2d.max() - vectors2d.min())*canvasWidth/10000)\n",
    "imgWidth -= imgWidth % 2"
   ]
  },
  {
   "cell_type": "code",
   "execution_count": 55,
   "metadata": {
    "collapsed": true
   },
   "outputs": [
    {
     "data": {
      "text/plain": [
       "48.0"
      ]
     },
     "execution_count": 55,
     "metadata": {},
     "output_type": "execute_result"
    }
   ],
   "source": [
    "imgWidth = int(imgWidth)"
   ]
  },
  {
   "cell_type": "code",
   "execution_count": 40,
   "metadata": {
    "collapsed": true
   },
   "outputs": [
    {
     "name": "stdout",
     "output_type": "stream",
     "text": [
      "added  0mages on canvas \n"
     ]
    },
    {
     "name": "stdout",
     "output_type": "stream",
     "text": [
      "added  100mages on canvas \n"
     ]
    },
    {
     "name": "stdout",
     "output_type": "stream",
     "text": [
      "added  200mages on canvas \n"
     ]
    },
    {
     "name": "stdout",
     "output_type": "stream",
     "text": [
      "added  300mages on canvas \n"
     ]
    },
    {
     "name": "stdout",
     "output_type": "stream",
     "text": [
      "added  400mages on canvas \n"
     ]
    },
    {
     "name": "stdout",
     "output_type": "stream",
     "text": [
      "added  500mages on canvas \n"
     ]
    },
    {
     "name": "stdout",
     "output_type": "stream",
     "text": [
      "added  600mages on canvas \n"
     ]
    },
    {
     "name": "stdout",
     "output_type": "stream",
     "text": [
      "added  700mages on canvas \n"
     ]
    },
    {
     "name": "stdout",
     "output_type": "stream",
     "text": [
      "added  800mages on canvas \n"
     ]
    },
    {
     "name": "stdout",
     "output_type": "stream",
     "text": [
      "added  900mages on canvas \n"
     ]
    },
    {
     "name": "stdout",
     "output_type": "stream",
     "text": [
      "added  1000mages on canvas \n"
     ]
    },
    {
     "name": "stdout",
     "output_type": "stream",
     "text": [
      "added  1100mages on canvas \n"
     ]
    },
    {
     "name": "stdout",
     "output_type": "stream",
     "text": [
      "added  1200mages on canvas \n"
     ]
    },
    {
     "name": "stdout",
     "output_type": "stream",
     "text": [
      "added  1300mages on canvas \n"
     ]
    },
    {
     "name": "stdout",
     "output_type": "stream",
     "text": [
      "added  1400mages on canvas \n"
     ]
    },
    {
     "name": "stdout",
     "output_type": "stream",
     "text": [
      "added  1500mages on canvas \n"
     ]
    },
    {
     "name": "stdout",
     "output_type": "stream",
     "text": [
      "added  1600mages on canvas \n"
     ]
    },
    {
     "name": "stdout",
     "output_type": "stream",
     "text": [
      "added  1700mages on canvas \n"
     ]
    },
    {
     "name": "stdout",
     "output_type": "stream",
     "text": [
      "added  1800mages on canvas \n"
     ]
    },
    {
     "name": "stdout",
     "output_type": "stream",
     "text": [
      "added  1900mages on canvas \n"
     ]
    },
    {
     "name": "stdout",
     "output_type": "stream",
     "text": [
      "added  2000mages on canvas \n"
     ]
    },
    {
     "name": "stdout",
     "output_type": "stream",
     "text": [
      "added  2100mages on canvas \n"
     ]
    },
    {
     "name": "stdout",
     "output_type": "stream",
     "text": [
      "added  2200mages on canvas \n"
     ]
    },
    {
     "name": "stdout",
     "output_type": "stream",
     "text": [
      "added  2300mages on canvas \n"
     ]
    },
    {
     "name": "stdout",
     "output_type": "stream",
     "text": [
      "added  2400mages on canvas \n"
     ]
    },
    {
     "name": "stdout",
     "output_type": "stream",
     "text": [
      "added  2500mages on canvas \n"
     ]
    },
    {
     "name": "stdout",
     "output_type": "stream",
     "text": [
      "added  2600mages on canvas \n"
     ]
    },
    {
     "name": "stdout",
     "output_type": "stream",
     "text": [
      "added  2700mages on canvas \n"
     ]
    },
    {
     "name": "stdout",
     "output_type": "stream",
     "text": [
      "added  2800mages on canvas \n"
     ]
    },
    {
     "name": "stdout",
     "output_type": "stream",
     "text": [
      "added  2900mages on canvas \n"
     ]
    },
    {
     "name": "stdout",
     "output_type": "stream",
     "text": [
      "added  3000mages on canvas \n"
     ]
    },
    {
     "name": "stdout",
     "output_type": "stream",
     "text": [
      "added  3100mages on canvas \n"
     ]
    },
    {
     "name": "stdout",
     "output_type": "stream",
     "text": [
      "added  3200mages on canvas \n"
     ]
    },
    {
     "name": "stdout",
     "output_type": "stream",
     "text": [
      "added  3300mages on canvas \n"
     ]
    },
    {
     "name": "stdout",
     "output_type": "stream",
     "text": [
      "added  3400mages on canvas \n"
     ]
    },
    {
     "name": "stdout",
     "output_type": "stream",
     "text": [
      "added  3500mages on canvas \n"
     ]
    },
    {
     "name": "stdout",
     "output_type": "stream",
     "text": [
      "added  3600mages on canvas \n"
     ]
    },
    {
     "name": "stdout",
     "output_type": "stream",
     "text": [
      "added  3700mages on canvas \n"
     ]
    },
    {
     "name": "stdout",
     "output_type": "stream",
     "text": [
      "added  3800mages on canvas \n"
     ]
    },
    {
     "name": "stdout",
     "output_type": "stream",
     "text": [
      "added  3900mages on canvas \n"
     ]
    },
    {
     "name": "stdout",
     "output_type": "stream",
     "text": [
      "added  4000mages on canvas \n"
     ]
    },
    {
     "name": "stdout",
     "output_type": "stream",
     "text": [
      "added  4100mages on canvas \n"
     ]
    },
    {
     "name": "stdout",
     "output_type": "stream",
     "text": [
      "added  4200mages on canvas \n"
     ]
    },
    {
     "name": "stdout",
     "output_type": "stream",
     "text": [
      "added  4300mages on canvas \n"
     ]
    },
    {
     "name": "stdout",
     "output_type": "stream",
     "text": [
      "added  4400mages on canvas \n"
     ]
    },
    {
     "name": "stdout",
     "output_type": "stream",
     "text": [
      "added  4500mages on canvas \n"
     ]
    },
    {
     "name": "stdout",
     "output_type": "stream",
     "text": [
      "added  4600mages on canvas \n"
     ]
    },
    {
     "name": "stdout",
     "output_type": "stream",
     "text": [
      "added  4700mages on canvas \n"
     ]
    },
    {
     "name": "stdout",
     "output_type": "stream",
     "text": [
      "added  4800mages on canvas \n"
     ]
    },
    {
     "name": "stdout",
     "output_type": "stream",
     "text": [
      "added  4900mages on canvas \n"
     ]
    },
    {
     "name": "stdout",
     "output_type": "stream",
     "text": [
      "added  5000mages on canvas \n"
     ]
    },
    {
     "name": "stdout",
     "output_type": "stream",
     "text": [
      "added  5100mages on canvas \n"
     ]
    },
    {
     "name": "stdout",
     "output_type": "stream",
     "text": [
      "added  5200mages on canvas \n"
     ]
    },
    {
     "name": "stdout",
     "output_type": "stream",
     "text": [
      "added  5300mages on canvas \n"
     ]
    },
    {
     "name": "stdout",
     "output_type": "stream",
     "text": [
      "added  5400mages on canvas \n"
     ]
    },
    {
     "name": "stdout",
     "output_type": "stream",
     "text": [
      "added  5500mages on canvas \n"
     ]
    },
    {
     "name": "stdout",
     "output_type": "stream",
     "text": [
      "added  5600mages on canvas \n"
     ]
    },
    {
     "name": "stdout",
     "output_type": "stream",
     "text": [
      "added  5700mages on canvas \n"
     ]
    },
    {
     "name": "stdout",
     "output_type": "stream",
     "text": [
      "added  5800mages on canvas \n"
     ]
    },
    {
     "name": "stdout",
     "output_type": "stream",
     "text": [
      "added  5900mages on canvas \n"
     ]
    },
    {
     "name": "stdout",
     "output_type": "stream",
     "text": [
      "added  6000mages on canvas \n"
     ]
    },
    {
     "name": "stdout",
     "output_type": "stream",
     "text": [
      "added  6100mages on canvas \n"
     ]
    },
    {
     "name": "stdout",
     "output_type": "stream",
     "text": [
      "added  6200mages on canvas \n"
     ]
    },
    {
     "name": "stdout",
     "output_type": "stream",
     "text": [
      "added  6300mages on canvas \n"
     ]
    },
    {
     "name": "stdout",
     "output_type": "stream",
     "text": [
      "added  6400mages on canvas \n"
     ]
    },
    {
     "name": "stdout",
     "output_type": "stream",
     "text": [
      "added  6500mages on canvas \n"
     ]
    },
    {
     "name": "stdout",
     "output_type": "stream",
     "text": [
      "added  6600mages on canvas \n"
     ]
    },
    {
     "name": "stdout",
     "output_type": "stream",
     "text": [
      "added  6700mages on canvas \n"
     ]
    },
    {
     "name": "stdout",
     "output_type": "stream",
     "text": [
      "added  6800mages on canvas \n"
     ]
    },
    {
     "name": "stdout",
     "output_type": "stream",
     "text": [
      "added  6900mages on canvas \n"
     ]
    },
    {
     "name": "stdout",
     "output_type": "stream",
     "text": [
      "added  7000mages on canvas \n"
     ]
    },
    {
     "name": "stdout",
     "output_type": "stream",
     "text": [
      "added  7100mages on canvas \n"
     ]
    },
    {
     "name": "stdout",
     "output_type": "stream",
     "text": [
      "added  7200mages on canvas \n"
     ]
    },
    {
     "name": "stdout",
     "output_type": "stream",
     "text": [
      "added  7300mages on canvas \n"
     ]
    },
    {
     "name": "stdout",
     "output_type": "stream",
     "text": [
      "added  7400mages on canvas \n"
     ]
    },
    {
     "name": "stdout",
     "output_type": "stream",
     "text": [
      "added  7500mages on canvas \n"
     ]
    },
    {
     "name": "stdout",
     "output_type": "stream",
     "text": [
      "added  7600mages on canvas \n"
     ]
    },
    {
     "name": "stdout",
     "output_type": "stream",
     "text": [
      "added  7700mages on canvas \n"
     ]
    },
    {
     "name": "stdout",
     "output_type": "stream",
     "text": [
      "added  7800mages on canvas \n"
     ]
    },
    {
     "name": "stdout",
     "output_type": "stream",
     "text": [
      "added  7900mages on canvas \n"
     ]
    },
    {
     "name": "stdout",
     "output_type": "stream",
     "text": [
      "added  8000mages on canvas \n"
     ]
    },
    {
     "name": "stdout",
     "output_type": "stream",
     "text": [
      "added  8100mages on canvas \n"
     ]
    },
    {
     "name": "stdout",
     "output_type": "stream",
     "text": [
      "added  8200mages on canvas \n"
     ]
    },
    {
     "name": "stdout",
     "output_type": "stream",
     "text": [
      "added  8300mages on canvas \n"
     ]
    },
    {
     "name": "stdout",
     "output_type": "stream",
     "text": [
      "added  8400mages on canvas \n"
     ]
    },
    {
     "name": "stdout",
     "output_type": "stream",
     "text": [
      "added  8500mages on canvas \n"
     ]
    },
    {
     "name": "stdout",
     "output_type": "stream",
     "text": [
      "added  8600mages on canvas \n"
     ]
    },
    {
     "name": "stdout",
     "output_type": "stream",
     "text": [
      "added  8700mages on canvas \n"
     ]
    },
    {
     "name": "stdout",
     "output_type": "stream",
     "text": [
      "added  8800mages on canvas \n"
     ]
    },
    {
     "name": "stdout",
     "output_type": "stream",
     "text": [
      "added  8900mages on canvas \n"
     ]
    },
    {
     "name": "stdout",
     "output_type": "stream",
     "text": [
      "added  9000mages on canvas \n"
     ]
    },
    {
     "name": "stdout",
     "output_type": "stream",
     "text": [
      "added  9100mages on canvas \n"
     ]
    },
    {
     "name": "stdout",
     "output_type": "stream",
     "text": [
      "added  9200mages on canvas \n"
     ]
    },
    {
     "name": "stdout",
     "output_type": "stream",
     "text": [
      "added  9300mages on canvas \n"
     ]
    },
    {
     "name": "stdout",
     "output_type": "stream",
     "text": [
      "added  9400mages on canvas \n"
     ]
    },
    {
     "name": "stdout",
     "output_type": "stream",
     "text": [
      "added  9500mages on canvas \n"
     ]
    },
    {
     "name": "stdout",
     "output_type": "stream",
     "text": [
      "added  9600mages on canvas \n"
     ]
    },
    {
     "name": "stdout",
     "output_type": "stream",
     "text": [
      "added  9700mages on canvas \n"
     ]
    },
    {
     "name": "stdout",
     "output_type": "stream",
     "text": [
      "added  9800mages on canvas \n"
     ]
    },
    {
     "name": "stdout",
     "output_type": "stream",
     "text": [
      "added  9900mages on canvas \n"
     ]
    }
   ],
   "source": [
    "minx = vectors2d[:, 0].min()\n",
    "miny = vectors2d[:, 1].min()\n",
    "\n",
    "vectors2d[:, 0] -= minx\n",
    "vectors2d[:, 1] -= miny\n",
    "\n",
    "maxx = vectors2d[:, 0].max()\n",
    "maxy = vectors2d[:, 1].max()\n",
    "\n",
    "canvasWidth = canvas.shape[1]\n",
    "for i, imgpath in enumerate(imgPaths):\n",
    "    imx = int((vectors2d[i, 0]/maxx * (canvasWidth-imgWidth)) + imgWidth/2)\n",
    "    imy = int((vectors2d[i, 1]/maxy * (canvasWidth-imgWidth)) + imgWidth/2)\n",
    "    scaledimage = cv2.resize(cv2.imread(imgpath), (imgWidth, imgWidth))\n",
    "    canvas[imx - imgWidth/2:imx+imgWidth/2, imy-imgWidth/2:imy+imgWidth/2] = scaledimage\n",
    "    if not i % 100:\n",
    "        print('added %s images on canvas ' % i)"
   ]
  },
  {
   "cell_type": "code",
   "execution_count": 41,
   "metadata": {
    "collapsed": true
   },
   "outputs": [
    {
     "data": {
      "text/plain": [
       "True"
      ]
     },
     "execution_count": 41,
     "metadata": {},
     "output_type": "execute_result"
    }
   ],
   "source": [
    "cv2.imwrite('tsneCanvas.png', canvas)"
   ]
  }
 ],
 "metadata": {
  "kernelspec": {
   "display_name": "Python 2",
   "language": "python",
   "name": "python2"
  },
  "language_info": {
   "codemirror_mode": {
    "name": "ipython",
    "version": 2
   },
   "file_extension": ".py",
   "mimetype": "text/x-python",
   "name": "python",
   "nbconvert_exporter": "python",
   "pygments_lexer": "ipython2",
   "version": "2.7.6"
  }
 },
 "nbformat": 4,
 "nbformat_minor": 0
}
